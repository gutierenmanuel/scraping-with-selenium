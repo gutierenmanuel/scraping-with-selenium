{
 "cells": [
  {
   "cell_type": "markdown",
   "metadata": {},
   "source": [
    "importamos las librerias"
   ]
  },
  {
   "cell_type": "code",
   "execution_count": 1,
   "metadata": {},
   "outputs": [],
   "source": [
    "from selenium import webdriver\n",
    "from selenium.webdriver.chrome.service import Service as ChromeService\n",
    "from webdriver_manager.chrome import ChromeDriverManager\n",
    "from selenium.webdriver.common.by import By\n",
    "from selenium.webdriver.common.keys import Keys\n",
    "import time\n",
    "from selenium.common.exceptions import NoSuchElementException\n"
   ]
  },
  {
   "cell_type": "code",
   "execution_count": 2,
   "metadata": {},
   "outputs": [],
   "source": [
    "import pandas as pd"
   ]
  },
  {
   "cell_type": "markdown",
   "metadata": {},
   "source": [
    "Indicamos el texto a buscar"
   ]
  },
  {
   "cell_type": "code",
   "execution_count": 3,
   "metadata": {},
   "outputs": [],
   "source": [
    "texto_a_buscar = 'Tarjeta Grafica'"
   ]
  },
  {
   "cell_type": "markdown",
   "metadata": {},
   "source": [
    "Bloque de codigo que ejecuta el scraping sobre amazon"
   ]
  },
  {
   "cell_type": "code",
   "execution_count": 4,
   "metadata": {},
   "outputs": [
    {
     "name": "stderr",
     "output_type": "stream",
     "text": [
      "/bin/sh: 1: google-chrome: not found\n",
      "/bin/sh: 1: google-chrome-stable: not found\n",
      "/bin/sh: 1: google-chrome-beta: not found\n",
      "/bin/sh: 1: google-chrome-dev: not found\n",
      "/bin/sh: 1: google-chrome: not found\n",
      "/bin/sh: 1: google-chrome-stable: not found\n",
      "/bin/sh: 1: google-chrome-beta: not found\n",
      "/bin/sh: 1: google-chrome-dev: not found\n"
     ]
    },
    {
     "ename": "AttributeError",
     "evalue": "'NoneType' object has no attribute 'split'",
     "output_type": "error",
     "traceback": [
      "\u001b[0;31m---------------------------------------------------------------------------\u001b[0m",
      "\u001b[0;31mAttributeError\u001b[0m                            Traceback (most recent call last)",
      "\u001b[1;32m/workspaces/scraping-with-selenium/src/Amazon_test.ipynb Celda 7\u001b[0m line \u001b[0;36m1\n\u001b[1;32m      <a href='vscode-notebook-cell://codespaces%2Bopulent-spoon-v6v6gvxpw6792p47q/workspaces/scraping-with-selenium/src/Amazon_test.ipynb#W6sdnNjb2RlLXJlbW90ZQ%3D%3D?line=6'>7</a>\u001b[0m ratings \u001b[39m=\u001b[39m []\n\u001b[1;32m     <a href='vscode-notebook-cell://codespaces%2Bopulent-spoon-v6v6gvxpw6792p47q/workspaces/scraping-with-selenium/src/Amazon_test.ipynb#W6sdnNjb2RlLXJlbW90ZQ%3D%3D?line=10'>11</a>\u001b[0m \u001b[39m# Cargamos el driver\u001b[39;00m\n\u001b[0;32m---> <a href='vscode-notebook-cell://codespaces%2Bopulent-spoon-v6v6gvxpw6792p47q/workspaces/scraping-with-selenium/src/Amazon_test.ipynb#W6sdnNjb2RlLXJlbW90ZQ%3D%3D?line=12'>13</a>\u001b[0m driver \u001b[39m=\u001b[39m webdriver\u001b[39m.\u001b[39mChrome(service\u001b[39m=\u001b[39mChromeService(ChromeDriverManager()\u001b[39m.\u001b[39;49minstall()))\n\u001b[1;32m     <a href='vscode-notebook-cell://codespaces%2Bopulent-spoon-v6v6gvxpw6792p47q/workspaces/scraping-with-selenium/src/Amazon_test.ipynb#W6sdnNjb2RlLXJlbW90ZQ%3D%3D?line=13'>14</a>\u001b[0m url \u001b[39m=\u001b[39m \u001b[39m\"\u001b[39m\u001b[39mhttps://www.amazon.es/\u001b[39m\u001b[39m\"\u001b[39m\n\u001b[1;32m     <a href='vscode-notebook-cell://codespaces%2Bopulent-spoon-v6v6gvxpw6792p47q/workspaces/scraping-with-selenium/src/Amazon_test.ipynb#W6sdnNjb2RlLXJlbW90ZQ%3D%3D?line=14'>15</a>\u001b[0m driver\u001b[39m.\u001b[39mget(url)\n",
      "File \u001b[0;32m~/.local/lib/python3.10/site-packages/webdriver_manager/chrome.py:40\u001b[0m, in \u001b[0;36mChromeDriverManager.install\u001b[0;34m(self)\u001b[0m\n\u001b[1;32m     39\u001b[0m \u001b[39mdef\u001b[39;00m \u001b[39minstall\u001b[39m(\u001b[39mself\u001b[39m) \u001b[39m-\u001b[39m\u001b[39m>\u001b[39m \u001b[39mstr\u001b[39m:\n\u001b[0;32m---> 40\u001b[0m     driver_path \u001b[39m=\u001b[39m \u001b[39mself\u001b[39;49m\u001b[39m.\u001b[39;49m_get_driver_binary_path(\u001b[39mself\u001b[39;49m\u001b[39m.\u001b[39;49mdriver)\n\u001b[1;32m     41\u001b[0m     os\u001b[39m.\u001b[39mchmod(driver_path, \u001b[39m0o755\u001b[39m)\n\u001b[1;32m     42\u001b[0m     \u001b[39mreturn\u001b[39;00m driver_path\n",
      "File \u001b[0;32m~/.local/lib/python3.10/site-packages/webdriver_manager/core/manager.py:40\u001b[0m, in \u001b[0;36mDriverManager._get_driver_binary_path\u001b[0;34m(self, driver)\u001b[0m\n\u001b[1;32m     37\u001b[0m     \u001b[39mreturn\u001b[39;00m binary_path\n\u001b[1;32m     39\u001b[0m os_type \u001b[39m=\u001b[39m \u001b[39mself\u001b[39m\u001b[39m.\u001b[39mget_os_type()\n\u001b[0;32m---> 40\u001b[0m file \u001b[39m=\u001b[39m \u001b[39mself\u001b[39m\u001b[39m.\u001b[39m_download_manager\u001b[39m.\u001b[39mdownload_file(driver\u001b[39m.\u001b[39;49mget_driver_download_url(os_type))\n\u001b[1;32m     41\u001b[0m binary_path \u001b[39m=\u001b[39m \u001b[39mself\u001b[39m\u001b[39m.\u001b[39m_cache_manager\u001b[39m.\u001b[39msave_file_to_cache(driver, file)\n\u001b[1;32m     42\u001b[0m \u001b[39mreturn\u001b[39;00m binary_path\n",
      "File \u001b[0;32m~/.local/lib/python3.10/site-packages/webdriver_manager/drivers/chrome.py:32\u001b[0m, in \u001b[0;36mChromeDriver.get_driver_download_url\u001b[0;34m(self, os_type)\u001b[0m\n\u001b[1;32m     31\u001b[0m \u001b[39mdef\u001b[39;00m \u001b[39mget_driver_download_url\u001b[39m(\u001b[39mself\u001b[39m, os_type):\n\u001b[0;32m---> 32\u001b[0m     driver_version_to_download \u001b[39m=\u001b[39m \u001b[39mself\u001b[39;49m\u001b[39m.\u001b[39;49mget_driver_version_to_download()\n\u001b[1;32m     33\u001b[0m     \u001b[39m# For Mac ARM CPUs after version 106.0.5249.61 the format of OS type changed\u001b[39;00m\n\u001b[1;32m     34\u001b[0m     \u001b[39m# to more unified \"mac_arm64\". For newer versions, it'll be \"mac_arm64\"\u001b[39;00m\n\u001b[1;32m     35\u001b[0m     \u001b[39m# by default, for lower versions we replace \"mac_arm64\" to old format - \"mac64_m1\".\u001b[39;00m\n\u001b[1;32m     36\u001b[0m     \u001b[39mif\u001b[39;00m version\u001b[39m.\u001b[39mparse(driver_version_to_download) \u001b[39m<\u001b[39m version\u001b[39m.\u001b[39mparse(\u001b[39m\"\u001b[39m\u001b[39m106.0.5249.61\u001b[39m\u001b[39m\"\u001b[39m):\n",
      "File \u001b[0;32m~/.local/lib/python3.10/site-packages/webdriver_manager/core/driver.py:48\u001b[0m, in \u001b[0;36mDriver.get_driver_version_to_download\u001b[0;34m(self)\u001b[0m\n\u001b[1;32m     45\u001b[0m \u001b[39mif\u001b[39;00m \u001b[39mself\u001b[39m\u001b[39m.\u001b[39m_driver_version_to_download:\n\u001b[1;32m     46\u001b[0m     \u001b[39mreturn\u001b[39;00m \u001b[39mself\u001b[39m\u001b[39m.\u001b[39m_driver_version_to_download\n\u001b[0;32m---> 48\u001b[0m \u001b[39mreturn\u001b[39;00m \u001b[39mself\u001b[39;49m\u001b[39m.\u001b[39;49mget_latest_release_version()\n",
      "File \u001b[0;32m~/.local/lib/python3.10/site-packages/webdriver_manager/drivers/chrome.py:64\u001b[0m, in \u001b[0;36mChromeDriver.get_latest_release_version\u001b[0;34m(self)\u001b[0m\n\u001b[1;32m     62\u001b[0m     \u001b[39mreturn\u001b[39;00m determined_browser_version\n\u001b[1;32m     63\u001b[0m \u001b[39m# Remove the build version (the last segment) from determined_browser_version for version < 113\u001b[39;00m\n\u001b[0;32m---> 64\u001b[0m determined_browser_version \u001b[39m=\u001b[39m \u001b[39m\"\u001b[39m\u001b[39m.\u001b[39m\u001b[39m\"\u001b[39m\u001b[39m.\u001b[39mjoin(determined_browser_version\u001b[39m.\u001b[39;49msplit(\u001b[39m\"\u001b[39m\u001b[39m.\u001b[39m\u001b[39m\"\u001b[39m)[:\u001b[39m3\u001b[39m])\n\u001b[1;32m     65\u001b[0m latest_release_url \u001b[39m=\u001b[39m (\n\u001b[1;32m     66\u001b[0m     \u001b[39mself\u001b[39m\u001b[39m.\u001b[39m_latest_release_url\n\u001b[1;32m     67\u001b[0m     \u001b[39mif\u001b[39;00m (determined_browser_version \u001b[39mis\u001b[39;00m \u001b[39mNone\u001b[39;00m)\n\u001b[1;32m     68\u001b[0m     \u001b[39melse\u001b[39;00m \u001b[39mf\u001b[39m\u001b[39m\"\u001b[39m\u001b[39m{\u001b[39;00m\u001b[39mself\u001b[39m\u001b[39m.\u001b[39m_latest_release_url\u001b[39m}\u001b[39;00m\u001b[39m_\u001b[39m\u001b[39m{\u001b[39;00mdetermined_browser_version\u001b[39m}\u001b[39;00m\u001b[39m\"\u001b[39m\n\u001b[1;32m     69\u001b[0m )\n\u001b[1;32m     70\u001b[0m resp \u001b[39m=\u001b[39m \u001b[39mself\u001b[39m\u001b[39m.\u001b[39m_http_client\u001b[39m.\u001b[39mget(url\u001b[39m=\u001b[39mlatest_release_url)\n",
      "\u001b[0;31mAttributeError\u001b[0m: 'NoneType' object has no attribute 'split'"
     ]
    }
   ],
   "source": [
    "# Inicializamos las listas\n",
    "\n",
    "nombre= []\n",
    "precios = []\n",
    "caracteristicas = []\n",
    "stars = []\n",
    "ratings = []\n",
    "\n",
    "\n",
    "\n",
    "# Cargamos el driver\n",
    "\n",
    "driver = webdriver.Chrome(service=ChromeService(ChromeDriverManager().install()))\n",
    "url = \"https://www.amazon.es/\"\n",
    "driver.get(url)\n",
    "\n",
    "\n",
    "\n",
    "\n",
    "# Probamos en las diferentes paginas de inicio de amazon\n",
    "\n",
    "time.sleep(1)\n",
    "\n",
    "try:\n",
    "    busqueda = driver.find_element(By.CSS_SELECTOR,'input#twotabsearchtextbox')\n",
    "\n",
    "    busqueda.clear()\n",
    "    busqueda.send_keys(texto_a_buscar)\n",
    "    busqueda.send_keys(Keys.ENTER)\n",
    "\n",
    "except NoSuchElementException:\n",
    "\n",
    "    busqueda = driver.find_element(By.CSS_SELECTOR,'input#nav-bb-search')\n",
    "\n",
    "    busqueda.clear()\n",
    "    busqueda.send_keys(texto_a_buscar)\n",
    "    busqueda.send_keys(Keys.ENTER)\n",
    "\n",
    "\n",
    "\n",
    "\n",
    "# Comenzamos a scrapear la pagina de resultados de amazon\n",
    "\n",
    "time.sleep(1)\n",
    "elements = driver.find_elements(By.CSS_SELECTOR,'div.a-section.a-spacing-base')\n",
    "   \n",
    "for element in elements:\n",
    "   \n",
    "    btn = element.find_element(By.TAG_NAME,\"a\")\n",
    "\n",
    "    enlace_url = btn.get_attribute('href')\n",
    "\n",
    "    driver.execute_script(\"window.open('\" + enlace_url + \"', '_blank');\")\n",
    "\n",
    "    # -----------\n",
    "    # Precio\n",
    "\n",
    "    price = element.find_element(By.CSS_SELECTOR,\"span.a-price\").text\n",
    "    precios.append(price)\n",
    "\n",
    "\n",
    "    #------------\n",
    "\n",
    "    # Manejar la nueva ventana\n",
    "    nuevas_ventanas = driver.window_handles\n",
    "    driver.switch_to.window(nuevas_ventanas[-1])\n",
    "\n",
    "    # -----------\n",
    "    #Titulo\n",
    "\n",
    "    title = driver.find_element(By.CSS_SELECTOR,\"h1#title\").text\n",
    "    nombre.append(title)\n",
    "\n",
    "\n",
    "    # -----------\n",
    "    # Caracteristicas\n",
    "\n",
    "    try:\n",
    "\n",
    "        charss = driver.find_element(By.CSS_SELECTOR, 'table#productDetails_techSpec_section_1')\n",
    "\n",
    "\n",
    "        # Crear un diccionario para almacenar las etiquetas y valores\n",
    "        info_dict = {}\n",
    "\n",
    "\n",
    "\n",
    "        # Iterar sobre las filas de la tabla\n",
    "        for fila in charss.find_elements(By.TAG_NAME, 'tr'):\n",
    "\n",
    "            try:\n",
    "            # Obtener la etiqueta y el valor\n",
    "            \n",
    "                etiqueta = fila.find_element(By.CLASS_NAME, 'a-size-base.prodDetSectionEntry').text.strip()\n",
    "                valor = fila.find_element(By.CLASS_NAME, 'a-size-base.prodDetAttrValue').text.strip()\n",
    "\n",
    "                # Agregar la información al diccionario\n",
    "                info_dict[etiqueta] = valor\n",
    "\n",
    "            except NoSuchElementException:\n",
    "                continue\n",
    "\n",
    "\n",
    "        caracteristicas.append(info_dict)\n",
    "\n",
    "    except NoSuchElementException:\n",
    "\n",
    "        caracteristicas.append(None)\n",
    "\n",
    "\n",
    "\n",
    "    #----------------\n",
    "    # Stars and rating\n",
    "\n",
    "    try:\n",
    "        stars_and_ratings = driver.find_element(By.CSS_SELECTOR, 'div#averageCustomerReviews').text.split('\\n')\n",
    "\n",
    "        starsss = stars_and_ratings[0]\n",
    "        ratingsss = stars_and_ratings[-1]\n",
    "\n",
    "        stars.append(starsss)\n",
    "\n",
    "        ratings.append(ratingsss)\n",
    "\n",
    "    except NoSuchElementException:\n",
    "\n",
    "        stars.append(None)\n",
    "\n",
    "        ratings.append(None)\n",
    "\n",
    "\n",
    "    # Cerramos la ventana\n",
    "    driver.close()\n",
    "    driver.switch_to.window(nuevas_ventanas[0])\n",
    "\n",
    "\n",
    "    "
   ]
  },
  {
   "cell_type": "markdown",
   "metadata": {},
   "source": [
    "Limpiamos las listas antes del dataframe"
   ]
  },
  {
   "cell_type": "code",
   "execution_count": null,
   "metadata": {},
   "outputs": [
    {
     "name": "stdout",
     "output_type": "stream",
     "text": [
      "2\n",
      "3\n",
      "2\n",
      "2\n",
      "2\n"
     ]
    }
   ],
   "source": [
    "print(len(nombre))\n",
    "print(len(precios ))\n",
    "print(len(caracteristicas ))\n",
    "print(len(stars ))\n",
    "print(len(ratings ))"
   ]
  },
  {
   "cell_type": "code",
   "execution_count": null,
   "metadata": {},
   "outputs": [
    {
     "data": {
      "text/plain": [
       "'116\\n00€'"
      ]
     },
     "execution_count": 19,
     "metadata": {},
     "output_type": "execute_result"
    }
   ],
   "source": [
    "precios.pop()"
   ]
  },
  {
   "cell_type": "code",
   "execution_count": null,
   "metadata": {},
   "outputs": [
    {
     "data": {
      "text/html": [
       "<div>\n",
       "<style scoped>\n",
       "    .dataframe tbody tr th:only-of-type {\n",
       "        vertical-align: middle;\n",
       "    }\n",
       "\n",
       "    .dataframe tbody tr th {\n",
       "        vertical-align: top;\n",
       "    }\n",
       "\n",
       "    .dataframe thead th {\n",
       "        text-align: right;\n",
       "    }\n",
       "</style>\n",
       "<table border=\"1\" class=\"dataframe\">\n",
       "  <thead>\n",
       "    <tr style=\"text-align: right;\">\n",
       "      <th></th>\n",
       "      <th>name</th>\n",
       "      <th>price</th>\n",
       "      <th>characteristics</th>\n",
       "      <th>stars</th>\n",
       "      <th>ratings</th>\n",
       "    </tr>\n",
       "  </thead>\n",
       "  <tbody>\n",
       "    <tr>\n",
       "      <th>0</th>\n",
       "      <td>GTX1050TI 4GB tarjeta gráfica DDR5 128BIT dobl...</td>\n",
       "      <td>115\\n00€</td>\n",
       "      <td>{'Marca': 'Generic', 'Fabricante': 'jinli', 'C...</td>\n",
       "      <td>None</td>\n",
       "      <td>None</td>\n",
       "    </tr>\n",
       "    <tr>\n",
       "      <th>1</th>\n",
       "      <td>PELADN AMD Radeon RX580 8GB Tarjeta Gráfica (G...</td>\n",
       "      <td>119\\n00€</td>\n",
       "      <td>{'Marca': 'Genérico', 'Fabricante': 'Peladn', ...</td>\n",
       "      <td>3,0</td>\n",
       "      <td>4 valoraciones</td>\n",
       "    </tr>\n",
       "  </tbody>\n",
       "</table>\n",
       "</div>"
      ],
      "text/plain": [
       "                                                name     price  \\\n",
       "0  GTX1050TI 4GB tarjeta gráfica DDR5 128BIT dobl...  115\\n00€   \n",
       "1  PELADN AMD Radeon RX580 8GB Tarjeta Gráfica (G...  119\\n00€   \n",
       "\n",
       "                                     characteristics stars         ratings  \n",
       "0  {'Marca': 'Generic', 'Fabricante': 'jinli', 'C...  None            None  \n",
       "1  {'Marca': 'Genérico', 'Fabricante': 'Peladn', ...   3,0  4 valoraciones  "
      ]
     },
     "execution_count": 20,
     "metadata": {},
     "output_type": "execute_result"
    }
   ],
   "source": [
    "amazon = {\n",
    "    'name':nombre,\n",
    "    'price':precios,\n",
    "    'characteristics':caracteristicas,\n",
    "    'stars':stars,\n",
    "    'ratings':ratings,\n",
    "}\n",
    "\n",
    "df = pd.DataFrame(amazon)\n",
    "df"
   ]
  }
 ],
 "metadata": {
  "kernelspec": {
   "display_name": "venv",
   "language": "python",
   "name": "python3"
  },
  "language_info": {
   "codemirror_mode": {
    "name": "ipython",
    "version": 3
   },
   "file_extension": ".py",
   "mimetype": "text/x-python",
   "name": "python",
   "nbconvert_exporter": "python",
   "pygments_lexer": "ipython3",
   "version": "3.10.8"
  }
 },
 "nbformat": 4,
 "nbformat_minor": 2
}
