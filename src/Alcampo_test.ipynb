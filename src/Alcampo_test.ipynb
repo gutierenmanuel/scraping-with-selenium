{
 "cells": [
  {
   "cell_type": "code",
   "execution_count": 1,
   "metadata": {},
   "outputs": [],
   "source": [
    "from selenium import webdriver\n",
    "from selenium.webdriver.common.by import By\n",
    "from selenium.webdriver.common.keys import Keys\n",
    "import time\n",
    "import pandas as pd"
   ]
  },
  {
   "cell_type": "code",
   "execution_count": null,
   "metadata": {},
   "outputs": [],
   "source": [
    "url = 'https://www.compraonline.alcampo.es/?pk_campaign=ALCAMPO_ES_ES_CO_SEARCH__MM&pk_source=google&pk_medium=cpc&pk_keyword=&pk_content=&gclid=Cj0KCQiAjMKqBhCgARIsAPDgWlw90MnwZRgTrstPNY_t6mn3mNWMTk5hbUcqlArL6bnfPwHJGvkUBccaAmZAEALw_wcB'\n",
    "\n",
    "driver = webdriver.Chrome()\n",
    "\n",
    "driver.get(url)\n",
    "\n",
    "button = driver.find_element(By.CSS_SELECTOR, \"button#onetrust-accept-btn-handler\")\n",
    "button.click()\n",
    "\n",
    "time.sleep(8)\n",
    "\n",
    "elemento = driver.find_element(By.CLASS_NAME, \"box-close\")\n",
    "\n",
    "elemento.click()\n",
    "\n",
    "search_term = 'Caballa'\n",
    "\n",
    "bar = driver.find_element(By.CSS_SELECTOR, 'input#search')\n",
    "\n",
    "bar.send_keys(search_term)\n",
    "bar.send_keys(Keys.ENTER)\n",
    "\n",
    "names= []\n",
    "price = []\n",
    "weight = []\n",
    "\n",
    "time.sleep(3)\n",
    "\n",
    "title = driver.find_elements(By.CSS_SELECTOR,\"h3.text__Text-sc-6l1yjp-0.iWlLMY\")\n",
    "for t in title:\n",
    "    names.append(t.text)\n",
    "\n",
    "dollars = driver.find_elements(By.CLASS_NAME, \"base__PriceWrapper-sc-1mnb0pd-28.dDLLyP\")\n",
    "for d in dollars:\n",
    "    price.append(d.text)\n",
    "\n",
    "size = driver.find_elements(By. CLASS_NAME, \"base__Size-sc-1mnb0pd-37.fop__SizeContainer-sc-sgv9y1-3.fwBToe.fHyhGh\")\n",
    "for s in size:\n",
    "    weight.append(s.text)\n",
    "\n",
    "print(f'Titles: {len(names)}')\n",
    "print(f'Prices: {len(price)}')\n",
    "print(f'Kilos: {len(weight)}')\n",
    "\n",
    "df_dict = {\n",
    "    'Name': names,\n",
    "    'Price': price,\n",
    "    'Weight': weight\n",
    "}\n",
    "\n",
    "df = pd.DataFrame(df_dict)\n",
    "df"
   ]
  }
 ],
 "metadata": {
  "kernelspec": {
   "display_name": "Python 3",
   "language": "python",
   "name": "python3"
  },
  "language_info": {
   "codemirror_mode": {
    "name": "ipython",
    "version": 3
   },
   "file_extension": ".py",
   "mimetype": "text/x-python",
   "name": "python",
   "nbconvert_exporter": "python",
   "pygments_lexer": "ipython3",
   "version": "3.10.8"
  }
 },
 "nbformat": 4,
 "nbformat_minor": 2
}
