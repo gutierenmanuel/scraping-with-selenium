{
 "cells": [
  {
   "cell_type": "code",
   "execution_count": null,
   "metadata": {},
   "outputs": [],
   "source": [
    "from selenium import webdriver\n",
    "from selenium.webdriver.common.by import By\n",
    "from selenium.webdriver.common.keys import Keys\n",
    "import time\n",
    "import pandas as pd"
   ]
  },
  {
   "cell_type": "code",
   "execution_count": null,
   "metadata": {},
   "outputs": [],
   "source": [
    "url = \"https://versus.com/es/graphics-card\"\n",
    "\n",
    "driver = webdriver.Chrome()\n",
    "\n",
    "driver.get(url)"
   ]
  },
  {
   "cell_type": "code",
   "execution_count": null,
   "metadata": {},
   "outputs": [],
   "source": [
    "elemento = driver.find_element(By.CLASS_NAME, \"fc-button.fc-cta-consent.fc-primary-button\")\n",
    "\n",
    "elemento.click()"
   ]
  },
  {
   "cell_type": "code",
   "execution_count": null,
   "metadata": {},
   "outputs": [],
   "source": [
    "title = driver.find_element(By.CLASS_NAME, \"List__name___1RSlw\")\n",
    "title.click()"
   ]
  },
  {
   "cell_type": "code",
   "execution_count": null,
   "metadata": {},
   "outputs": [],
   "source": [
    "button = driver.find_element(By.CSS_SELECTOR, (\"button[aria-label='Load more properties in Rendimiento group']\"))\n",
    "button.click()"
   ]
  },
  {
   "cell_type": "code",
   "execution_count": null,
   "metadata": {},
   "outputs": [],
   "source": [
    "gpu = driver.find_element(By.XPATH, \"//h1\")\n",
    "title = gpu.text\n",
    "for t in title:\n",
    "    head = title.split(':')\n",
    "    head = head[0]\n",
    "\n",
    "head"
   ]
  },
  {
   "cell_type": "code",
   "execution_count": null,
   "metadata": {},
   "outputs": [],
   "source": [
    "values = []\n",
    "caract = driver.find_elements(By.XPATH, \"//div[@class='Property__valueContainer___14Alj']\")\n",
    "for c in caract:\n",
    "    values.append(c.text)"
   ]
  },
  {
   "cell_type": "code",
   "execution_count": null,
   "metadata": {},
   "outputs": [],
   "source": [
    "names = []\n",
    "skills = []\n",
    "# Recorrer la lista original y dividir cada elemento en dos partes\n",
    "for elemento in values:\n",
    "    partes = elemento.split('\\n')\n",
    "    names.append(partes[0])  # La primera parte es la característica\n",
    "    skills.append(partes[-1])  "
   ]
  },
  {
   "cell_type": "code",
   "execution_count": null,
   "metadata": {},
   "outputs": [],
   "source": [
    "print(len(names))\n",
    "print(len(skills))"
   ]
  },
  {
   "cell_type": "code",
   "execution_count": null,
   "metadata": {},
   "outputs": [],
   "source": [
    "names"
   ]
  },
  {
   "cell_type": "code",
   "execution_count": null,
   "metadata": {},
   "outputs": [],
   "source": [
    "skills"
   ]
  },
  {
   "cell_type": "code",
   "execution_count": null,
   "metadata": {},
   "outputs": [],
   "source": [
    "name_skills = dict(zip(names, skills))\n",
    "name_skills"
   ]
  },
  {
   "cell_type": "code",
   "execution_count": null,
   "metadata": {},
   "outputs": [],
   "source": [
    "url = []\n",
    "price = []\n",
    "table = driver.find_elements(By.CLASS_NAME,\"PriceTable__row___36X6C\")\n",
    "for fila in table:\n",
    "        enlace = fila.find_element(By.CLASS_NAME, \"PriceTable__price___1MLQ4\").find_element(By.TAG_NAME, \"a\").get_attribute(\"href\")\n",
    "        precio = fila.find_element(By.CLASS_NAME, \"PriceTable__price___1MLQ4\").text\n",
    "        url.append(enlace)\n",
    "        price.append(precio)"
   ]
  },
  {
   "cell_type": "code",
   "execution_count": null,
   "metadata": {},
   "outputs": [],
   "source": [
    "url"
   ]
  },
  {
   "cell_type": "code",
   "execution_count": null,
   "metadata": {},
   "outputs": [],
   "source": [
    "price"
   ]
  },
  {
   "cell_type": "code",
   "execution_count": null,
   "metadata": {},
   "outputs": [],
   "source": [
    "price_url = dict(zip(price, url)) \n",
    "price_url"
   ]
  }
 ],
 "metadata": {
  "language_info": {
   "name": "python"
  }
 },
 "nbformat": 4,
 "nbformat_minor": 2
}
