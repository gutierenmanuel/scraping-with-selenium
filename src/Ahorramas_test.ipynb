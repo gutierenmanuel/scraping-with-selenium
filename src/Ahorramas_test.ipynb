{
 "cells": [
  {
   "cell_type": "code",
   "execution_count": null,
   "metadata": {},
   "outputs": [],
   "source": [
    "from selenium import webdriver\n",
    "from selenium.webdriver.common.by import By\n",
    "from selenium.webdriver.common.keys import Keys\n",
    "from selenium.common.exceptions import NoSuchElementException, ElementClickInterceptedException, StaleElementReferenceException\n",
    "import time\n",
    "import pandas as pd"
   ]
  },
  {
   "cell_type": "code",
   "execution_count": null,
   "metadata": {},
   "outputs": [],
   "source": [
    "url = 'https://www.ahorramas.com/'\n",
    "driver = webdriver.Chrome()\n",
    "driver.get(url)\n",
    "\n",
    "time.sleep(3)\n",
    "button = driver.find_element(By.CSS_SELECTOR, \"button#onetrust-accept-btn-handler\")\n",
    "button.click()\n",
    "\n",
    "search_term = 'galletas'\n",
    "\n",
    "bar = driver.find_element(By.CSS_SELECTOR,\"input.form-control.search-field\")\n",
    "bar.send_keys(search_term)\n",
    "bar.send_keys(Keys.ENTER)\n",
    "\n",
    "name = []\n",
    "price = []\n",
    "\n",
    "time.sleep(4)\n",
    "\n",
    "for i in range(100):\n",
    "    try:\n",
    "        next = driver.find_element(By.CSS_SELECTOR, \"button.btn.btn-outline-primary.col-12.col-sm-4.more\")\n",
    "        next.click()\n",
    "        time.sleep(3)\n",
    "    except ElementClickInterceptedException:\n",
    "        print(\"Elemento está siendo interceptado. Esperando antes de hacer clic.\")\n",
    "        time.sleep(2)  # Puedes ajustar el tiempo de espera según sea necesario\n",
    "        continue \n",
    "    except StaleElementReferenceException:\n",
    "        print(\"Elemento de referencia caduco. Volviendo a encontrar el elemento.\")\n",
    "        continue\n",
    "\n",
    "    except NoSuchElementException:\n",
    "        print(\"Elemento no encontrado. Saliendo del bucle.\")\n",
    "        break  # Salir del bucle si el elemento no se encuentra\n",
    "\n",
    "title = driver.find_elements(By.CSS_SELECTOR,\"h2.link.product-name-gtm\")\n",
    "for t in title:\n",
    "    name.append(t.text)\n",
    "\n",
    "sales = driver.find_elements(By.CSS_SELECTOR,\"span.sales\")\n",
    "for s in sales:\n",
    "    price.append(s.text)\n",
    "\n",
    "print(f'Titles: {len(name)}')\n",
    "print(f'Price: {len(price)}')\n",
    "\n",
    "df_dict= {\n",
    "    'Name': name,\n",
    "    'Price': price,\n",
    "}\n",
    "\n",
    "df = pd.DataFrame(df_dict)\n",
    "df"
   ]
  }
 ],
 "metadata": {
  "language_info": {
   "name": "python"
  }
 },
 "nbformat": 4,
 "nbformat_minor": 2
}
